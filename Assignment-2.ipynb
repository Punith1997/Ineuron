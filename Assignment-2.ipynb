{
 "cells": [
  {
   "cell_type": "code",
   "execution_count": null,
   "id": "1a910ac2",
   "metadata": {},
   "outputs": [],
   "source": [
    "                                                Assignment 2 Solutions"
   ]
  },
  {
   "cell_type": "code",
   "execution_count": null,
   "id": "de6090ca",
   "metadata": {},
   "outputs": [],
   "source": [
    "1. What are the two values of the boolean data types? how do you write them ?\n",
    "Ans: True and False are two values of the boolen data types. We have to use capital T (i.e, True) and F (i.e,False) and with the rest of the word in lowercase"
   ]
  },
  {
   "cell_type": "code",
   "execution_count": null,
   "id": "1061a961",
   "metadata": {},
   "outputs": [],
   "source": [
    "2. What are the three different types of Boolean operators?\n",
    "Ans: The three differnt types of Boolean operators in python are: \"or\" \"and\" \"not\""
   ]
  },
  {
   "cell_type": "code",
   "execution_count": null,
   "id": "b01bcdc2",
   "metadata": {},
   "outputs": [],
   "source": [
    "3. Make a list of each Boolean operator's truth tables (i.e. every possible combination of Boolean values for the operator and  what it evaluate?\n",
    "Ans: The Truth tables for the boolean tables are as follows:\n",
    "\n",
    "        Truth Table for and operaotor\n",
    "        True and True = True\n",
    "        True and False = False\n",
    "        False and True = False\n",
    "        False and False = False\n",
    "\n",
    "        Truth Table for or operaotor\n",
    "        True and True = True\n",
    "        True and False = True\n",
    "        False and True = True\n",
    "        False and False = False\n",
    "\n",
    "        Truth Table for not operaotor\n",
    "        True not = False \n",
    "        False not = True"
   ]
  },
  {
   "cell_type": "code",
   "execution_count": null,
   "id": "ef55e51f",
   "metadata": {},
   "outputs": [],
   "source": [
    "4. What are the values of the following expressions ?\n",
    "(5 > 4) and (3 == 5)\n",
    "not (5 > 4)\n",
    "(5 > 4) or (3 == 5)\n",
    "not ((5 > 4) or (3 == 5))\n",
    "(True and True) and (True == False)\n",
    "(not False) or (not True)\n",
    "\n",
    "Ans:    (5 > 4) and (3 == 5)                         = False\n",
    "        not (5 > 4)                                  = False\n",
    "        (5 > 4) or (3 == 5)                          = True\n",
    "        not ((5 > 4) or (3 == 5))                    = False\n",
    "        (True and True) and (True == False)          = False\n",
    "        (not False) or (not True)                    = True"
   ]
  },
  {
   "cell_type": "code",
   "execution_count": null,
   "id": "6d874668",
   "metadata": {},
   "outputs": [],
   "source": [
    "5. What are the six comparison operators?\n",
    "Ans: The Six comparision operators available in python are: == , != , < , > , <= , =>"
   ]
  },
  {
   "cell_type": "code",
   "execution_count": null,
   "id": "64f393a2",
   "metadata": {},
   "outputs": [],
   "source": [
    "6. How do you tell the difference between the equal to and assignment operators?Describe a condition and when you would use one?\n",
    "Ans: == is the equal to operator that compares two values and evaluates to a Boolean, \n",
    "     = is a assignment operator that stores a value in a variable."
   ]
  },
  {
   "cell_type": "code",
   "execution_count": null,
   "id": "f32448ed",
   "metadata": {},
   "outputs": [],
   "source": [
    "7. Identify the three blocks in this code:\n",
    "spam = 0\n",
    "if spam == 10:\n",
    "print('eggs')\n",
    "if spam > 5:\n",
    "print('bacon')\n",
    "else:\n",
    "print('ham')\n",
    "print('spam')\n",
    "print('spam')\n",
    "\n",
    "Ans: block1:  if spam == 10:  \n",
    "                print('eggs')\n",
    "                \n",
    "     block2:  if spam > 5:  \n",
    "                print('bacon')\n",
    "                \n",
    "     block3:  else:  \n",
    "                print('ham')"
   ]
  },
  {
   "cell_type": "code",
   "execution_count": null,
   "id": "cc257091",
   "metadata": {},
   "outputs": [],
   "source": [
    "8. Write code that prints Hello if 1 is stored in spam, prints Howdy if 2 is stored in spam, and prints Greetings! if anything else is stored in spam."
   ]
  },
  {
   "cell_type": "code",
   "execution_count": 5,
   "id": "ad01a408",
   "metadata": {},
   "outputs": [
    {
     "name": "stdout",
     "output_type": "stream",
     "text": [
      "Hello\n",
      "Howdy\n",
      "Greetings\n"
     ]
    }
   ],
   "source": [
    "def spamCode(spam):\n",
    "    if spam==1:\n",
    "        print('Hello')\n",
    "    elif spam==2:\n",
    "        print('Howdy')\n",
    "    else:\n",
    "        print('Greetings')\n",
    "        \n",
    "spamCode(1) \n",
    "spamCode(2)\n",
    "spamCode(3)"
   ]
  },
  {
   "cell_type": "code",
   "execution_count": null,
   "id": "cd017e5a",
   "metadata": {},
   "outputs": [],
   "source": [
    "9.If your programme is stuck in an endless loop, what keys you’ll press?\n",
    "Ans: Ctrl-c "
   ]
  },
  {
   "cell_type": "code",
   "execution_count": null,
   "id": "d85054be",
   "metadata": {},
   "outputs": [],
   "source": [
    "10. How can you tell the difference between break and continue?\n",
    "Ans: The break statement will move the execution outside the loop if break condtion is satisfied.\n",
    "     The continue statement will move the execution to the start of the loop."
   ]
  },
  {
   "cell_type": "code",
   "execution_count": null,
   "id": "f72be285",
   "metadata": {},
   "outputs": [],
   "source": [
    "11. In a for loop, what is the difference between range(10), range(0, 10), and range(0, 10, 1)?\n",
    "Ans: The Differences are as follows:\n",
    "\n",
    "        The range(10) call range from 0 to 9 (but not include 10)\n",
    "        The range (0,10) explicitly tells the loop to start at 0\n",
    "        The range(0,10,1) explicitly tells the loop to increase the variable by 1 on each iteration"
   ]
  },
  {
   "cell_type": "code",
   "execution_count": null,
   "id": "e9991220",
   "metadata": {},
   "outputs": [],
   "source": [
    "12. Write a short program that prints the numbers 1 to 10 using a for loop. Then write an equivalent program that prints the numbers 1 to 10 using a while loop ?"
   ]
  },
  {
   "cell_type": "code",
   "execution_count": 6,
   "id": "214b24e0",
   "metadata": {},
   "outputs": [
    {
     "name": "stdout",
     "output_type": "stream",
     "text": [
      "********** Using For Loop **********\n",
      "1 2 3 4 5 6 7 8 9 10 \n",
      "\n",
      "********** Using While Loop **********\n",
      "1 2 3 4 5 6 7 8 9 10 "
     ]
    }
   ],
   "source": [
    "print('*'*10,'Using For Loop','*'*10)\n",
    "for i in range(1,11):\n",
    "    print(i, end=\" \")\n",
    "print('\\n')\n",
    "print('*'*10,'Using While Loop','*'*10) \n",
    "i=1\n",
    "while i<=10:\n",
    "    print(i, end=\" \")\n",
    "    i+=1"
   ]
  },
  {
   "cell_type": "code",
   "execution_count": null,
   "id": "61470e02",
   "metadata": {},
   "outputs": [],
   "source": [
    "13. If you had a function named bacon() inside a module named spam, how would you call it after importing spam ?\n",
    "Ans: This function can be called with spam.bacon()"
   ]
  }
 ],
 "metadata": {
  "kernelspec": {
   "display_name": "Python 3 (ipykernel)",
   "language": "python",
   "name": "python3"
  },
  "language_info": {
   "codemirror_mode": {
    "name": "ipython",
    "version": 3
   },
   "file_extension": ".py",
   "mimetype": "text/x-python",
   "name": "python",
   "nbconvert_exporter": "python",
   "pygments_lexer": "ipython3",
   "version": "3.9.7"
  }
 },
 "nbformat": 4,
 "nbformat_minor": 5
}
