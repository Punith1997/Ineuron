{
 "cells": [
  {
   "cell_type": "markdown",
   "id": "02ef6783",
   "metadata": {},
   "source": [
    "### 1. Create a function in python to read the text file and replace specific content of the file."
   ]
  },
  {
   "cell_type": "code",
   "execution_count": 1,
   "id": "aeaa07f0",
   "metadata": {},
   "outputs": [
    {
     "name": "stdout",
     "output_type": "stream",
     "text": [
      "Old sentence:  This is a placement assignment\n",
      "Replaced sentence:  This is a screening assignment\n"
     ]
    }
   ],
   "source": [
    "def rewrite_file(filename, sentence, old_word, new_word):\n",
    "    \n",
    "    with open(filename, 'w') as f:\n",
    "        f.write(sentence)\n",
    "        \n",
    "    with open(filename, 'r') as f:\n",
    "        sentence = f.read()\n",
    "        print('Old sentence: ',sentence)\n",
    "        sentence = sentence.replace(old_word, new_word)\n",
    "        \n",
    "    with open('replaced_'+filename, 'w') as f:\n",
    "        f.write(sentence)\n",
    "        \n",
    "    with open('replaced_'+filename, 'r') as f:\n",
    "        sentence = f.read()\n",
    "        print('Replaced sentence: ',sentence)\n",
    "        \n",
    "filename = 'example.txt'\n",
    "sentence = 'This is a placement assignment'\n",
    "old_word = 'placement'\n",
    "new_word = 'screening'\n",
    "\n",
    "rewrite_file(filename, sentence, old_word, new_word)"
   ]
  },
  {
   "cell_type": "markdown",
   "id": "64404cb9",
   "metadata": {},
   "source": [
    "### 2. Demonstrate use of Abstract class, Multiple Inheritence and decorator in python using examples."
   ]
  },
  {
   "cell_type": "code",
   "execution_count": 2,
   "id": "6c9a216f",
   "metadata": {},
   "outputs": [
    {
     "name": "stdout",
     "output_type": "stream",
     "text": [
      "Geometry box is required for Maths exam.\n",
      "Geometry box is not required for English exam.\n"
     ]
    }
   ],
   "source": [
    "## ABSTRACT CLASS\n",
    "\n",
    "from abc import ABC, abstractmethod\n",
    "\n",
    "class Exam(ABC):\n",
    "    @abstractmethod\n",
    "    def geometry_box(self):\n",
    "        pass\n",
    "    \n",
    "class Maths(Exam):\n",
    "    def geometry_box(self):\n",
    "        print('Geometry box is required for Maths exam.')\n",
    "        \n",
    "class English(Exam):\n",
    "    def geometry_box(self):\n",
    "        print('Geometry box is not required for English exam.')\n",
    "        \n",
    "exam_1 = Maths()\n",
    "exam_2 = English()\n",
    "exam_1.geometry_box()\n",
    "exam_2.geometry_box()"
   ]
  },
  {
   "cell_type": "code",
   "execution_count": 3,
   "id": "a0f59506",
   "metadata": {},
   "outputs": [
    {
     "name": "stdout",
     "output_type": "stream",
     "text": [
      "Iam Parent1 Ajay\n",
      "Iam Parent2 Soumya\n",
      "Iam Child1 Rahul\n"
     ]
    }
   ],
   "source": [
    "## MULTIPLE INHERITENCE\n",
    "\n",
    "class Parent1:\n",
    "    def name_P1(self):\n",
    "        print('Iam Parent1 Ajay')\n",
    "        \n",
    "class Parent2:\n",
    "    def name_P2(self):\n",
    "        print('Iam Parent2 Soumya')\n",
    "        \n",
    "class Child1(Parent1,Parent2):\n",
    "    def name_C1(self):\n",
    "        print('Iam Child1 Rahul')\n",
    "        \n",
    "C1 = Child1()\n",
    "C1.name_P1()\n",
    "C1.name_P2()\n",
    "C1.name_C1()"
   ]
  },
  {
   "cell_type": "code",
   "execution_count": 4,
   "id": "4b53b904",
   "metadata": {},
   "outputs": [
    {
     "name": "stdout",
     "output_type": "stream",
     "text": [
      "144\n"
     ]
    }
   ],
   "source": [
    "## DECORATOR\n",
    "\n",
    "def num_square(func):\n",
    "    def inner(num):\n",
    "        num = func(num)\n",
    "        return num*num\n",
    "    return inner\n",
    "\n",
    "def add10(func):\n",
    "    def inner(num):\n",
    "        num = func(num)\n",
    "        return num+10\n",
    "    return inner\n",
    "\n",
    "@num_square\n",
    "@add10\n",
    "def num_add10_square(x):\n",
    "    return x\n",
    "\n",
    "print(num_add10_square(2))\n",
    "        "
   ]
  },
  {
   "cell_type": "code",
   "execution_count": null,
   "id": "19c2279d",
   "metadata": {},
   "outputs": [],
   "source": []
  }
 ],
 "metadata": {
  "kernelspec": {
   "display_name": "Python 3 (ipykernel)",
   "language": "python",
   "name": "python3"
  },
  "language_info": {
   "codemirror_mode": {
    "name": "ipython",
    "version": 3
   },
   "file_extension": ".py",
   "mimetype": "text/x-python",
   "name": "python",
   "nbconvert_exporter": "python",
   "pygments_lexer": "ipython3",
   "version": "3.9.12"
  }
 },
 "nbformat": 4,
 "nbformat_minor": 5
}
