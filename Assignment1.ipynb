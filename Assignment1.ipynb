{
 "cells": [
  {
   "cell_type": "code",
   "execution_count": null,
   "id": "39ff35e1",
   "metadata": {},
   "outputs": [],
   "source": [
    "Assignment-1 (for pdf version - \"https://github.com/Punith1997/Ineuron/blob/main/Assignment1.pdf\")"
   ]
  },
  {
   "cell_type": "code",
   "execution_count": null,
   "id": "2c260b0c",
   "metadata": {},
   "outputs": [],
   "source": [
    "1. In the below elements which of them are values or an expression? eg:- values can be integer or string and expressions will be mathematical operators.\n",
    "Answer: * - expression\n",
    "        'hello' - value\n",
    "        -87.8 - value\n",
    "        - - expression\n",
    "        / - expression\n",
    "        + - expression\n",
    "        6 - value"
   ]
  },
  {
   "cell_type": "code",
   "execution_count": null,
   "id": "fed6cec4",
   "metadata": {},
   "outputs": [],
   "source": [
    "2. What is the difference between string and variable?\n",
    "Answer: String: Anything inside the quotes is called string.\n",
    "        Variable: It is used to store the data in main memory."
   ]
  },
  {
   "cell_type": "code",
   "execution_count": null,
   "id": "8a58e7fc",
   "metadata": {},
   "outputs": [],
   "source": [
    "3. Describe three different data types.\n",
    "Answer: int: Positive or negative whole numbers (without a fractional part) e.g. -10, 10, 456, 4654654.\n",
    "        float: Any real number with a floating-point representation in which a fractional component is denoted by a decimal\n",
    "               symbol or scientific notation e.g. 1.23, 3.4556789e2.\n",
    "        complex: A number with a real and imaginary component represented as x + 2y.\n"
   ]
  },
  {
   "cell_type": "code",
   "execution_count": null,
   "id": "88caac8f",
   "metadata": {},
   "outputs": [],
   "source": [
    "4. What is an expression made up of? What do all expressions do?\n",
    "Answer: An expression is a combination of values, variables, operators, and calls to functions. Expressions need to be\n",
    "        evaluated. If you ask Python to print an expression, the interpreter evaluates the expression and displays the result."
   ]
  },
  {
   "cell_type": "code",
   "execution_count": null,
   "id": "4587d0cd",
   "metadata": {},
   "outputs": [],
   "source": [
    "5. This assignment statements, like spam = 10. What is the difference between an expression and a statement?\n",
    "Answer: An expression evaluates to a single value. A statement does not."
   ]
  },
  {
   "cell_type": "code",
   "execution_count": null,
   "id": "681f9cbc",
   "metadata": {},
   "outputs": [],
   "source": [
    "6. After running the following code, what does the variable bacon contain?\n",
    "        bacon = 22\n",
    "        bacon + 1\n",
    "Answer: bacon = 23"
   ]
  },
  {
   "cell_type": "code",
   "execution_count": null,
   "id": "dbaa5c40",
   "metadata": {},
   "outputs": [],
   "source": [
    "7. What should the values of the following two terms be?\n",
    "        'spam' + 'spamspam'\n",
    "        'spam' * 3\n",
    "Answer: 'spam' + 'spamspam' = spamspamspam\n",
    "        'spam' * 3 = spamspamspam\n"
   ]
  },
  {
   "cell_type": "code",
   "execution_count": null,
   "id": "39c01bbb",
   "metadata": {},
   "outputs": [],
   "source": [
    "8. Why is eggs a valid variable name while 100 is invalid?\n",
    "Answer: Variable names cannot begin with a number"
   ]
  },
  {
   "cell_type": "code",
   "execution_count": null,
   "id": "0a3782f7",
   "metadata": {},
   "outputs": [],
   "source": [
    "9. What three functions can be used to get the integer, floating-point number, or string version of a value?\n",
    "Answer: The int(), float(), and str() functions will evaluate the integer, floating-point number, and string versions of the\n",
    "        value passed to them."
   ]
  },
  {
   "cell_type": "code",
   "execution_count": null,
   "id": "51f2f0a5",
   "metadata": {},
   "outputs": [],
   "source": [
    "10. Why does this expression cause an error? How can you fix it?\n",
    "        'I have eaten ' + 99 + ' burritos.'\n",
    "Answer: The expression causes an error because 99 is an integer, and only strings can be concatenated to other strings with the + operator. The correct way is ‘I have eaten ' + str(99) + ' burritos.'."
   ]
  }
 ],
 "metadata": {
  "kernelspec": {
   "display_name": "Python 3 (ipykernel)",
   "language": "python",
   "name": "python3"
  },
  "language_info": {
   "codemirror_mode": {
    "name": "ipython",
    "version": 3
   },
   "file_extension": ".py",
   "mimetype": "text/x-python",
   "name": "python",
   "nbconvert_exporter": "python",
   "pygments_lexer": "ipython3",
   "version": "3.9.7"
  }
 },
 "nbformat": 4,
 "nbformat_minor": 5
}
